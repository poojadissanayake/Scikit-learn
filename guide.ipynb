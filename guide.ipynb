{
 "cells": [
  {
   "cell_type": "markdown",
   "id": "29c9f577-3aa1-4632-808c-a1b83566fc32",
   "metadata": {},
   "source": [
    "# Beginner's Guide to Scikit-learn: 7 Essential Commands"
   ]
  },
  {
   "cell_type": "markdown",
   "id": "b344ef80-25a7-4b52-8181-dd1c2e638a2e",
   "metadata": {},
   "source": [
    "Scikit-learn is a powerful Python library for machine learning. This guide will provide an introduction to 7 essential Scikit-learn commands which will help you to kick start your Scikit-learn journey."
   ]
  },
  {
   "cell_type": "markdown",
   "id": "d1e12d69-abc1-4628-8d2a-802f7df5f858",
   "metadata": {},
   "source": [
    "## 1. Import Scikit-learn"
   ]
  },
  {
   "cell_type": "markdown",
   "id": "cded472c-0b8b-448e-9ade-462a443a0378",
   "metadata": {},
   "source": [
    "We need to import Scikit-learn before we start using this library as it is the foundation that we are going to work on. It allows us to access the comprehensive suite of various machine learning algorithms, tools and utilities we will need to perform data analysis and model evaluation."
   ]
  },
  {
   "cell_type": "code",
   "execution_count": 12,
   "id": "fddc9ba8-6495-49cd-9c23-12f4eeb835c2",
   "metadata": {},
   "outputs": [],
   "source": [
    "import sklearn\n",
    "from sklearn import datasets"
   ]
  },
  {
   "cell_type": "markdown",
   "id": "a3303c7e-db13-4b74-9bff-aefe86dc1578",
   "metadata": {},
   "source": [
    "This 'dataset' module provides us with the access to various datasets available on Scikit-learn library."
   ]
  },
  {
   "cell_type": "markdown",
   "id": "87a4b4c4-5366-4f7d-9e2d-626f666a40a8",
   "metadata": {},
   "source": [
    "## 2. Loading a dataset"
   ]
  },
  {
   "cell_type": "markdown",
   "id": "c3f0d448-0062-4317-8d28-f2bc6b21c45f",
   "metadata": {},
   "source": [
    "To explore and learn about Scikit-learn, let's load a built-in dataset available on Scikit-learn library."
   ]
  },
  {
   "cell_type": "code",
   "execution_count": 20,
   "id": "f977bc15-8b75-4bd6-b4eb-8be19ba77593",
   "metadata": {},
   "outputs": [],
   "source": [
    "# Load the breast cancer dataset\n",
    "breastCancer_ds = datasets.load_breast_cancer()"
   ]
  },
  {
   "cell_type": "markdown",
   "id": "4418b839-870b-4331-aab3-dd6ecbae5a8b",
   "metadata": {},
   "source": [
    "Now that we have loaded the dataset, let's print the first 3 rows of data."
   ]
  },
  {
   "cell_type": "code",
   "execution_count": 27,
   "id": "8aff1dba-c0db-49f3-8fa4-de3b1b741ee9",
   "metadata": {},
   "outputs": [
    {
     "name": "stdout",
     "output_type": "stream",
     "text": [
      "[[1.799e+01 1.038e+01 1.228e+02 1.001e+03 1.184e-01 2.776e-01 3.001e-01\n",
      "  1.471e-01 2.419e-01 7.871e-02 1.095e+00 9.053e-01 8.589e+00 1.534e+02\n",
      "  6.399e-03 4.904e-02 5.373e-02 1.587e-02 3.003e-02 6.193e-03 2.538e+01\n",
      "  1.733e+01 1.846e+02 2.019e+03 1.622e-01 6.656e-01 7.119e-01 2.654e-01\n",
      "  4.601e-01 1.189e-01]\n",
      " [2.057e+01 1.777e+01 1.329e+02 1.326e+03 8.474e-02 7.864e-02 8.690e-02\n",
      "  7.017e-02 1.812e-01 5.667e-02 5.435e-01 7.339e-01 3.398e+00 7.408e+01\n",
      "  5.225e-03 1.308e-02 1.860e-02 1.340e-02 1.389e-02 3.532e-03 2.499e+01\n",
      "  2.341e+01 1.588e+02 1.956e+03 1.238e-01 1.866e-01 2.416e-01 1.860e-01\n",
      "  2.750e-01 8.902e-02]\n",
      " [1.969e+01 2.125e+01 1.300e+02 1.203e+03 1.096e-01 1.599e-01 1.974e-01\n",
      "  1.279e-01 2.069e-01 5.999e-02 7.456e-01 7.869e-01 4.585e+00 9.403e+01\n",
      "  6.150e-03 4.006e-02 3.832e-02 2.058e-02 2.250e-02 4.571e-03 2.357e+01\n",
      "  2.553e+01 1.525e+02 1.709e+03 1.444e-01 4.245e-01 4.504e-01 2.430e-01\n",
      "  3.613e-01 8.758e-02]]\n"
     ]
    }
   ],
   "source": [
    "print(breastCancer_ds.data[:3])"
   ]
  },
  {
   "cell_type": "markdown",
   "id": "2c45e557-e2d5-4188-8577-af2c9c3d8749",
   "metadata": {},
   "source": [
    "As you can see, we get a bunch of numbers. This is the first 3 rows of the features in the Breast Cancer dataset. A feature is a property or phenomenon that is been observed on a dataset."
   ]
  },
  {
   "cell_type": "markdown",
   "id": "2ca17d32-b412-4a72-b502-d0a996109915",
   "metadata": {},
   "source": [
    "Each row corresponds to a single sample in this case a patient. A column represents various characteristics or the measurements of the tumor and other metrics. This helps the analyst to understand and classify data depending on the observations."
   ]
  },
  {
   "cell_type": "markdown",
   "id": "d218a477-375f-44c5-9289-294fac439f37",
   "metadata": {},
   "source": [
    "## 3. Splitting the dataset"
   ]
  },
  {
   "cell_type": "markdown",
   "id": "7b00f75d-1a15-47ae-88c2-123ed7c09d74",
   "metadata": {},
   "source": [
    "Splitting a dataset is a practice that is used to evaluate the effectiveness of a model. To evaluate it we need to split our dataset into two sets namely the 'Training' and the 'Testing' sets.\n",
    "As the name suggest, the training set is used for the purpose of training the model and the testing set is used to test the model we trained."
   ]
  },
  {
   "cell_type": "code",
   "execution_count": 37,
   "id": "6692ad19-10ba-471d-ad27-6e402b19d372",
   "metadata": {},
   "outputs": [],
   "source": [
    "from sklearn.model_selection import train_test_split\n",
    "\n",
    "# Split the breast cancer dataset\n",
    "X_train, X_test, y_train, y_test = train_test_split(breastCancer_ds.data, breastCancer_ds.target, test_size=0.3, random_state=70)"
   ]
  },
  {
   "cell_type": "markdown",
   "id": "8b0d8024-1063-4395-ae70-dd274f7608d8",
   "metadata": {},
   "source": [
    "**'train_test_split'** is a function available in Scikit-learn that will split a dataset into two subsets: a training set and a testing set. The 'breastCancer_ds.data' and 'breastCancer_ds.target' are the two aspects of the dataset. Features used to train the model are held by 'breastC#ancer_ds.data' while the 'breastCancer_ds.target' containes the target which is the label or the classification that our model aims to predict."
   ]
  },
  {
   "cell_type": "markdown",
   "id": "04bd8393-e96b-4836-a502-b72847a7ceec",
   "metadata": {},
   "source": [
    "## 4. Standardizing the data"
   ]
  },
  {
   "cell_type": "markdown",
   "id": "31ba519e-0fd3-4509-9097-68f1472fdee7",
   "metadata": {},
   "source": [
    "This is a preprocessing step in machine learning. Which involves adjusting the values of features in a way that they have an average of 0 and standard deviation of 1.\n",
    "\n",
    "#### Why it is important?\n",
    "\n",
    "In simple, standardizing data is important as it helps to normalize the scale of the features making it more comparable.\n",
    "\n",
    "##### a) Increases the Consistency: \n",
    "\n",
    "Usually various features are measured using various different scales (Eg: Weight is measures in Kg or Lbs while your hearing is measured using decibels (dB) and your vision is measured using a different system - Snellen chart). If we use all these types of measuring scales and expect a model to perform task there will be various sorts of issues (It's like asking a calculator to add 2 to Melbourne.. Makes no sense!). Therefore standardizing ensures that all the features that we consider are in the same scale and contributes equally to the model's learning.\n",
    "\n",
    "##### b) Improved Performance:\n",
    "\n",
    "Many algorithms performs better because standardization helps the converge (successfully adjusted its parameters to achieve optimal performance) faster during training.\n",
    "\n",
    "##### c) Outlier Influence:\n",
    "\n",
    "Standardization reduces the influence of outliers on model\n"
   ]
  },
  {
   "cell_type": "code",
   "execution_count": 48,
   "id": "dd36eec0-235f-49d4-8ce2-5c2404cc709f",
   "metadata": {},
   "outputs": [],
   "source": [
    "from sklearn.preprocessing import StandardScaler\n",
    "\n",
    "standard_scaler = StandardScaler()\n",
    "X_train = standard_scaler.fit_transform(X_train)\n",
    "X_test = standard_scaler.transform(X_test)"
   ]
  },
  {
   "cell_type": "markdown",
   "id": "226d1503-a040-45c3-896b-e91bd4e58be6",
   "metadata": {},
   "source": [
    "## 5. Training a model"
   ]
  },
  {
   "cell_type": "markdown",
   "id": "b21a9da9-54fa-47d2-a6d9-d7da76bf4b6b",
   "metadata": {},
   "source": [
    "Let's train a logistic regression model on our training set.\n",
    "\n",
    "#### What's a logistic regression model?\n",
    "\n",
    "It's a statistical model used for binary classification. It predicts the probability of an occurence based on the features of the dataset (Eg: whether a tumor is malignant or benign)."
   ]
  },
  {
   "cell_type": "code",
   "execution_count": 59,
   "id": "d9a77c1e-9297-4396-ba43-c57e066fab83",
   "metadata": {},
   "outputs": [
    {
     "data": {
      "text/html": [
       "<style>#sk-container-id-2 {\n",
       "  /* Definition of color scheme common for light and dark mode */\n",
       "  --sklearn-color-text: black;\n",
       "  --sklearn-color-line: gray;\n",
       "  /* Definition of color scheme for unfitted estimators */\n",
       "  --sklearn-color-unfitted-level-0: #fff5e6;\n",
       "  --sklearn-color-unfitted-level-1: #f6e4d2;\n",
       "  --sklearn-color-unfitted-level-2: #ffe0b3;\n",
       "  --sklearn-color-unfitted-level-3: chocolate;\n",
       "  /* Definition of color scheme for fitted estimators */\n",
       "  --sklearn-color-fitted-level-0: #f0f8ff;\n",
       "  --sklearn-color-fitted-level-1: #d4ebff;\n",
       "  --sklearn-color-fitted-level-2: #b3dbfd;\n",
       "  --sklearn-color-fitted-level-3: cornflowerblue;\n",
       "\n",
       "  /* Specific color for light theme */\n",
       "  --sklearn-color-text-on-default-background: var(--sg-text-color, var(--theme-code-foreground, var(--jp-content-font-color1, black)));\n",
       "  --sklearn-color-background: var(--sg-background-color, var(--theme-background, var(--jp-layout-color0, white)));\n",
       "  --sklearn-color-border-box: var(--sg-text-color, var(--theme-code-foreground, var(--jp-content-font-color1, black)));\n",
       "  --sklearn-color-icon: #696969;\n",
       "\n",
       "  @media (prefers-color-scheme: dark) {\n",
       "    /* Redefinition of color scheme for dark theme */\n",
       "    --sklearn-color-text-on-default-background: var(--sg-text-color, var(--theme-code-foreground, var(--jp-content-font-color1, white)));\n",
       "    --sklearn-color-background: var(--sg-background-color, var(--theme-background, var(--jp-layout-color0, #111)));\n",
       "    --sklearn-color-border-box: var(--sg-text-color, var(--theme-code-foreground, var(--jp-content-font-color1, white)));\n",
       "    --sklearn-color-icon: #878787;\n",
       "  }\n",
       "}\n",
       "\n",
       "#sk-container-id-2 {\n",
       "  color: var(--sklearn-color-text);\n",
       "}\n",
       "\n",
       "#sk-container-id-2 pre {\n",
       "  padding: 0;\n",
       "}\n",
       "\n",
       "#sk-container-id-2 input.sk-hidden--visually {\n",
       "  border: 0;\n",
       "  clip: rect(1px 1px 1px 1px);\n",
       "  clip: rect(1px, 1px, 1px, 1px);\n",
       "  height: 1px;\n",
       "  margin: -1px;\n",
       "  overflow: hidden;\n",
       "  padding: 0;\n",
       "  position: absolute;\n",
       "  width: 1px;\n",
       "}\n",
       "\n",
       "#sk-container-id-2 div.sk-dashed-wrapped {\n",
       "  border: 1px dashed var(--sklearn-color-line);\n",
       "  margin: 0 0.4em 0.5em 0.4em;\n",
       "  box-sizing: border-box;\n",
       "  padding-bottom: 0.4em;\n",
       "  background-color: var(--sklearn-color-background);\n",
       "}\n",
       "\n",
       "#sk-container-id-2 div.sk-container {\n",
       "  /* jupyter's `normalize.less` sets `[hidden] { display: none; }`\n",
       "     but bootstrap.min.css set `[hidden] { display: none !important; }`\n",
       "     so we also need the `!important` here to be able to override the\n",
       "     default hidden behavior on the sphinx rendered scikit-learn.org.\n",
       "     See: https://github.com/scikit-learn/scikit-learn/issues/21755 */\n",
       "  display: inline-block !important;\n",
       "  position: relative;\n",
       "}\n",
       "\n",
       "#sk-container-id-2 div.sk-text-repr-fallback {\n",
       "  display: none;\n",
       "}\n",
       "\n",
       "div.sk-parallel-item,\n",
       "div.sk-serial,\n",
       "div.sk-item {\n",
       "  /* draw centered vertical line to link estimators */\n",
       "  background-image: linear-gradient(var(--sklearn-color-text-on-default-background), var(--sklearn-color-text-on-default-background));\n",
       "  background-size: 2px 100%;\n",
       "  background-repeat: no-repeat;\n",
       "  background-position: center center;\n",
       "}\n",
       "\n",
       "/* Parallel-specific style estimator block */\n",
       "\n",
       "#sk-container-id-2 div.sk-parallel-item::after {\n",
       "  content: \"\";\n",
       "  width: 100%;\n",
       "  border-bottom: 2px solid var(--sklearn-color-text-on-default-background);\n",
       "  flex-grow: 1;\n",
       "}\n",
       "\n",
       "#sk-container-id-2 div.sk-parallel {\n",
       "  display: flex;\n",
       "  align-items: stretch;\n",
       "  justify-content: center;\n",
       "  background-color: var(--sklearn-color-background);\n",
       "  position: relative;\n",
       "}\n",
       "\n",
       "#sk-container-id-2 div.sk-parallel-item {\n",
       "  display: flex;\n",
       "  flex-direction: column;\n",
       "}\n",
       "\n",
       "#sk-container-id-2 div.sk-parallel-item:first-child::after {\n",
       "  align-self: flex-end;\n",
       "  width: 50%;\n",
       "}\n",
       "\n",
       "#sk-container-id-2 div.sk-parallel-item:last-child::after {\n",
       "  align-self: flex-start;\n",
       "  width: 50%;\n",
       "}\n",
       "\n",
       "#sk-container-id-2 div.sk-parallel-item:only-child::after {\n",
       "  width: 0;\n",
       "}\n",
       "\n",
       "/* Serial-specific style estimator block */\n",
       "\n",
       "#sk-container-id-2 div.sk-serial {\n",
       "  display: flex;\n",
       "  flex-direction: column;\n",
       "  align-items: center;\n",
       "  background-color: var(--sklearn-color-background);\n",
       "  padding-right: 1em;\n",
       "  padding-left: 1em;\n",
       "}\n",
       "\n",
       "\n",
       "/* Toggleable style: style used for estimator/Pipeline/ColumnTransformer box that is\n",
       "clickable and can be expanded/collapsed.\n",
       "- Pipeline and ColumnTransformer use this feature and define the default style\n",
       "- Estimators will overwrite some part of the style using the `sk-estimator` class\n",
       "*/\n",
       "\n",
       "/* Pipeline and ColumnTransformer style (default) */\n",
       "\n",
       "#sk-container-id-2 div.sk-toggleable {\n",
       "  /* Default theme specific background. It is overwritten whether we have a\n",
       "  specific estimator or a Pipeline/ColumnTransformer */\n",
       "  background-color: var(--sklearn-color-background);\n",
       "}\n",
       "\n",
       "/* Toggleable label */\n",
       "#sk-container-id-2 label.sk-toggleable__label {\n",
       "  cursor: pointer;\n",
       "  display: block;\n",
       "  width: 100%;\n",
       "  margin-bottom: 0;\n",
       "  padding: 0.5em;\n",
       "  box-sizing: border-box;\n",
       "  text-align: center;\n",
       "}\n",
       "\n",
       "#sk-container-id-2 label.sk-toggleable__label-arrow:before {\n",
       "  /* Arrow on the left of the label */\n",
       "  content: \"▸\";\n",
       "  float: left;\n",
       "  margin-right: 0.25em;\n",
       "  color: var(--sklearn-color-icon);\n",
       "}\n",
       "\n",
       "#sk-container-id-2 label.sk-toggleable__label-arrow:hover:before {\n",
       "  color: var(--sklearn-color-text);\n",
       "}\n",
       "\n",
       "/* Toggleable content - dropdown */\n",
       "\n",
       "#sk-container-id-2 div.sk-toggleable__content {\n",
       "  max-height: 0;\n",
       "  max-width: 0;\n",
       "  overflow: hidden;\n",
       "  text-align: left;\n",
       "  /* unfitted */\n",
       "  background-color: var(--sklearn-color-unfitted-level-0);\n",
       "}\n",
       "\n",
       "#sk-container-id-2 div.sk-toggleable__content.fitted {\n",
       "  /* fitted */\n",
       "  background-color: var(--sklearn-color-fitted-level-0);\n",
       "}\n",
       "\n",
       "#sk-container-id-2 div.sk-toggleable__content pre {\n",
       "  margin: 0.2em;\n",
       "  border-radius: 0.25em;\n",
       "  color: var(--sklearn-color-text);\n",
       "  /* unfitted */\n",
       "  background-color: var(--sklearn-color-unfitted-level-0);\n",
       "}\n",
       "\n",
       "#sk-container-id-2 div.sk-toggleable__content.fitted pre {\n",
       "  /* unfitted */\n",
       "  background-color: var(--sklearn-color-fitted-level-0);\n",
       "}\n",
       "\n",
       "#sk-container-id-2 input.sk-toggleable__control:checked~div.sk-toggleable__content {\n",
       "  /* Expand drop-down */\n",
       "  max-height: 200px;\n",
       "  max-width: 100%;\n",
       "  overflow: auto;\n",
       "}\n",
       "\n",
       "#sk-container-id-2 input.sk-toggleable__control:checked~label.sk-toggleable__label-arrow:before {\n",
       "  content: \"▾\";\n",
       "}\n",
       "\n",
       "/* Pipeline/ColumnTransformer-specific style */\n",
       "\n",
       "#sk-container-id-2 div.sk-label input.sk-toggleable__control:checked~label.sk-toggleable__label {\n",
       "  color: var(--sklearn-color-text);\n",
       "  background-color: var(--sklearn-color-unfitted-level-2);\n",
       "}\n",
       "\n",
       "#sk-container-id-2 div.sk-label.fitted input.sk-toggleable__control:checked~label.sk-toggleable__label {\n",
       "  background-color: var(--sklearn-color-fitted-level-2);\n",
       "}\n",
       "\n",
       "/* Estimator-specific style */\n",
       "\n",
       "/* Colorize estimator box */\n",
       "#sk-container-id-2 div.sk-estimator input.sk-toggleable__control:checked~label.sk-toggleable__label {\n",
       "  /* unfitted */\n",
       "  background-color: var(--sklearn-color-unfitted-level-2);\n",
       "}\n",
       "\n",
       "#sk-container-id-2 div.sk-estimator.fitted input.sk-toggleable__control:checked~label.sk-toggleable__label {\n",
       "  /* fitted */\n",
       "  background-color: var(--sklearn-color-fitted-level-2);\n",
       "}\n",
       "\n",
       "#sk-container-id-2 div.sk-label label.sk-toggleable__label,\n",
       "#sk-container-id-2 div.sk-label label {\n",
       "  /* The background is the default theme color */\n",
       "  color: var(--sklearn-color-text-on-default-background);\n",
       "}\n",
       "\n",
       "/* On hover, darken the color of the background */\n",
       "#sk-container-id-2 div.sk-label:hover label.sk-toggleable__label {\n",
       "  color: var(--sklearn-color-text);\n",
       "  background-color: var(--sklearn-color-unfitted-level-2);\n",
       "}\n",
       "\n",
       "/* Label box, darken color on hover, fitted */\n",
       "#sk-container-id-2 div.sk-label.fitted:hover label.sk-toggleable__label.fitted {\n",
       "  color: var(--sklearn-color-text);\n",
       "  background-color: var(--sklearn-color-fitted-level-2);\n",
       "}\n",
       "\n",
       "/* Estimator label */\n",
       "\n",
       "#sk-container-id-2 div.sk-label label {\n",
       "  font-family: monospace;\n",
       "  font-weight: bold;\n",
       "  display: inline-block;\n",
       "  line-height: 1.2em;\n",
       "}\n",
       "\n",
       "#sk-container-id-2 div.sk-label-container {\n",
       "  text-align: center;\n",
       "}\n",
       "\n",
       "/* Estimator-specific */\n",
       "#sk-container-id-2 div.sk-estimator {\n",
       "  font-family: monospace;\n",
       "  border: 1px dotted var(--sklearn-color-border-box);\n",
       "  border-radius: 0.25em;\n",
       "  box-sizing: border-box;\n",
       "  margin-bottom: 0.5em;\n",
       "  /* unfitted */\n",
       "  background-color: var(--sklearn-color-unfitted-level-0);\n",
       "}\n",
       "\n",
       "#sk-container-id-2 div.sk-estimator.fitted {\n",
       "  /* fitted */\n",
       "  background-color: var(--sklearn-color-fitted-level-0);\n",
       "}\n",
       "\n",
       "/* on hover */\n",
       "#sk-container-id-2 div.sk-estimator:hover {\n",
       "  /* unfitted */\n",
       "  background-color: var(--sklearn-color-unfitted-level-2);\n",
       "}\n",
       "\n",
       "#sk-container-id-2 div.sk-estimator.fitted:hover {\n",
       "  /* fitted */\n",
       "  background-color: var(--sklearn-color-fitted-level-2);\n",
       "}\n",
       "\n",
       "/* Specification for estimator info (e.g. \"i\" and \"?\") */\n",
       "\n",
       "/* Common style for \"i\" and \"?\" */\n",
       "\n",
       ".sk-estimator-doc-link,\n",
       "a:link.sk-estimator-doc-link,\n",
       "a:visited.sk-estimator-doc-link {\n",
       "  float: right;\n",
       "  font-size: smaller;\n",
       "  line-height: 1em;\n",
       "  font-family: monospace;\n",
       "  background-color: var(--sklearn-color-background);\n",
       "  border-radius: 1em;\n",
       "  height: 1em;\n",
       "  width: 1em;\n",
       "  text-decoration: none !important;\n",
       "  margin-left: 1ex;\n",
       "  /* unfitted */\n",
       "  border: var(--sklearn-color-unfitted-level-1) 1pt solid;\n",
       "  color: var(--sklearn-color-unfitted-level-1);\n",
       "}\n",
       "\n",
       ".sk-estimator-doc-link.fitted,\n",
       "a:link.sk-estimator-doc-link.fitted,\n",
       "a:visited.sk-estimator-doc-link.fitted {\n",
       "  /* fitted */\n",
       "  border: var(--sklearn-color-fitted-level-1) 1pt solid;\n",
       "  color: var(--sklearn-color-fitted-level-1);\n",
       "}\n",
       "\n",
       "/* On hover */\n",
       "div.sk-estimator:hover .sk-estimator-doc-link:hover,\n",
       ".sk-estimator-doc-link:hover,\n",
       "div.sk-label-container:hover .sk-estimator-doc-link:hover,\n",
       ".sk-estimator-doc-link:hover {\n",
       "  /* unfitted */\n",
       "  background-color: var(--sklearn-color-unfitted-level-3);\n",
       "  color: var(--sklearn-color-background);\n",
       "  text-decoration: none;\n",
       "}\n",
       "\n",
       "div.sk-estimator.fitted:hover .sk-estimator-doc-link.fitted:hover,\n",
       ".sk-estimator-doc-link.fitted:hover,\n",
       "div.sk-label-container:hover .sk-estimator-doc-link.fitted:hover,\n",
       ".sk-estimator-doc-link.fitted:hover {\n",
       "  /* fitted */\n",
       "  background-color: var(--sklearn-color-fitted-level-3);\n",
       "  color: var(--sklearn-color-background);\n",
       "  text-decoration: none;\n",
       "}\n",
       "\n",
       "/* Span, style for the box shown on hovering the info icon */\n",
       ".sk-estimator-doc-link span {\n",
       "  display: none;\n",
       "  z-index: 9999;\n",
       "  position: relative;\n",
       "  font-weight: normal;\n",
       "  right: .2ex;\n",
       "  padding: .5ex;\n",
       "  margin: .5ex;\n",
       "  width: min-content;\n",
       "  min-width: 20ex;\n",
       "  max-width: 50ex;\n",
       "  color: var(--sklearn-color-text);\n",
       "  box-shadow: 2pt 2pt 4pt #999;\n",
       "  /* unfitted */\n",
       "  background: var(--sklearn-color-unfitted-level-0);\n",
       "  border: .5pt solid var(--sklearn-color-unfitted-level-3);\n",
       "}\n",
       "\n",
       ".sk-estimator-doc-link.fitted span {\n",
       "  /* fitted */\n",
       "  background: var(--sklearn-color-fitted-level-0);\n",
       "  border: var(--sklearn-color-fitted-level-3);\n",
       "}\n",
       "\n",
       ".sk-estimator-doc-link:hover span {\n",
       "  display: block;\n",
       "}\n",
       "\n",
       "/* \"?\"-specific style due to the `<a>` HTML tag */\n",
       "\n",
       "#sk-container-id-2 a.estimator_doc_link {\n",
       "  float: right;\n",
       "  font-size: 1rem;\n",
       "  line-height: 1em;\n",
       "  font-family: monospace;\n",
       "  background-color: var(--sklearn-color-background);\n",
       "  border-radius: 1rem;\n",
       "  height: 1rem;\n",
       "  width: 1rem;\n",
       "  text-decoration: none;\n",
       "  /* unfitted */\n",
       "  color: var(--sklearn-color-unfitted-level-1);\n",
       "  border: var(--sklearn-color-unfitted-level-1) 1pt solid;\n",
       "}\n",
       "\n",
       "#sk-container-id-2 a.estimator_doc_link.fitted {\n",
       "  /* fitted */\n",
       "  border: var(--sklearn-color-fitted-level-1) 1pt solid;\n",
       "  color: var(--sklearn-color-fitted-level-1);\n",
       "}\n",
       "\n",
       "/* On hover */\n",
       "#sk-container-id-2 a.estimator_doc_link:hover {\n",
       "  /* unfitted */\n",
       "  background-color: var(--sklearn-color-unfitted-level-3);\n",
       "  color: var(--sklearn-color-background);\n",
       "  text-decoration: none;\n",
       "}\n",
       "\n",
       "#sk-container-id-2 a.estimator_doc_link.fitted:hover {\n",
       "  /* fitted */\n",
       "  background-color: var(--sklearn-color-fitted-level-3);\n",
       "}\n",
       "</style><div id=\"sk-container-id-2\" class=\"sk-top-container\"><div class=\"sk-text-repr-fallback\"><pre>LogisticRegression(max_iter=10000)</pre><b>In a Jupyter environment, please rerun this cell to show the HTML representation or trust the notebook. <br />On GitHub, the HTML representation is unable to render, please try loading this page with nbviewer.org.</b></div><div class=\"sk-container\" hidden><div class=\"sk-item\"><div class=\"sk-estimator fitted sk-toggleable\"><input class=\"sk-toggleable__control sk-hidden--visually\" id=\"sk-estimator-id-2\" type=\"checkbox\" checked><label for=\"sk-estimator-id-2\" class=\"sk-toggleable__label fitted sk-toggleable__label-arrow fitted\">&nbsp;&nbsp;LogisticRegression<a class=\"sk-estimator-doc-link fitted\" rel=\"noreferrer\" target=\"_blank\" href=\"https://scikit-learn.org/1.4/modules/generated/sklearn.linear_model.LogisticRegression.html\">?<span>Documentation for LogisticRegression</span></a><span class=\"sk-estimator-doc-link fitted\">i<span>Fitted</span></span></label><div class=\"sk-toggleable__content fitted\"><pre>LogisticRegression(max_iter=10000)</pre></div> </div></div></div></div>"
      ],
      "text/plain": [
       "LogisticRegression(max_iter=10000)"
      ]
     },
     "execution_count": 59,
     "metadata": {},
     "output_type": "execute_result"
    }
   ],
   "source": [
    "from sklearn.linear_model import LogisticRegression\n",
    "\n",
    "# Create a logistic regression model\n",
    "regression_model = LogisticRegression(max_iter=10000)\n",
    "\n",
    "# Train the model\n",
    "regression_model.fit(X_train, y_train)\n"
   ]
  },
  {
   "cell_type": "markdown",
   "id": "21cf6ed3-152a-4b6c-b28b-8a4c79fd005f",
   "metadata": {},
   "source": [
    "'max_iter' is the maximum number of iterations in our case 10000. Having a higher number of iterations ensures there's adequate iterations to find the best fitting model parameters, leading to more accurate predictions."
   ]
  },
  {
   "cell_type": "markdown",
   "id": "47156d16-33f8-4ada-abf4-73b94fb4bd55",
   "metadata": {},
   "source": [
    "## 6. Making predictions"
   ]
  },
  {
   "cell_type": "markdown",
   "id": "a35142e9-b23b-4d24-a6a7-5922ca05180a",
   "metadata": {},
   "source": [
    "Once the training of our model is completed, we can use our model to make predictions on the test set."
   ]
  },
  {
   "cell_type": "code",
   "execution_count": 65,
   "id": "a4d8a487-4cb9-4c46-9f7b-b34324fd8246",
   "metadata": {},
   "outputs": [
    {
     "name": "stdout",
     "output_type": "stream",
     "text": [
      "[1 1 1 1 0 1 0 0 1 1 1 0 0 1 1 0 0 1 1 1 1 1 1 0 1 1 1 0 1 1 1 0 1 1 1 1 1\n",
      " 1 1 0 0 1 0 1 0 1 1 0 1 0 0 1 0 1 1 0 1 0 1 0 1 1 1 0 1 0 0 1 0 1 1 0 1 1\n",
      " 0 1 1 1 1 1 1 0 0 1 0 0 1 1 1 0 1 0 0 0 1 0 1 1 1 0 1 0 1 0 1 0 1 1 1 0 1\n",
      " 0 0 1 0 1 0 1 1 1 1 1 1 1 0 0 0 1 1 0 0 1 1 1 1 1 0 1 1 1 1 0 1 0 1 1 0 1\n",
      " 1 1 0 1 0 1 1 1 1 1 0 0 1 1 0 0 0 0 1 0 1 1 0]\n"
     ]
    }
   ],
   "source": [
    "# Make predictions\n",
    "y_pred = regression_model.predict(X_test)\n",
    "print(y_pred)\n"
   ]
  },
  {
   "cell_type": "markdown",
   "id": "31ecbcef-50d4-487c-be58-13570f12029b",
   "metadata": {},
   "source": [
    "What we do here is using the predict function in Scikit-learn, we ask it to make predictions on the test set (X_test) using the regression model we already trained.\n",
    "\n",
    "'y_pred' is the model's predictions for our test dataset 'X_test'."
   ]
  },
  {
   "cell_type": "markdown",
   "id": "8ec39a55-f2c5-4cac-97eb-f1c37a095ae4",
   "metadata": {},
   "source": [
    "## 7. Evaluating the model"
   ]
  },
  {
   "cell_type": "markdown",
   "id": "804e2ab3-2f50-40ba-b651-ba10734cce22",
   "metadata": {},
   "source": [
    "Now that we have trained a model and tested it with our test datset, it's time to evaluate our model using metrics such as accuracy and classification report.\n",
    "\n",
    "In Scikit-learn there are various ways to evaluate a model, one of such module that we are going to use in this guide is **'sklearn.metrics'**  which has a wide range of tool to evaluate the performance of a machine learning model."
   ]
  },
  {
   "cell_type": "code",
   "execution_count": 73,
   "id": "09633a94-3ec1-4ba3-be70-f8266b685dd5",
   "metadata": {},
   "outputs": [
    {
     "name": "stdout",
     "output_type": "stream",
     "text": [
      "Accuracy of the model: 0.9590643274853801\n",
      "              precision    recall  f1-score   support\n",
      "\n",
      "           0       0.94      0.95      0.94        63\n",
      "           1       0.97      0.96      0.97       108\n",
      "\n",
      "    accuracy                           0.96       171\n",
      "   macro avg       0.95      0.96      0.96       171\n",
      "weighted avg       0.96      0.96      0.96       171\n",
      "\n"
     ]
    }
   ],
   "source": [
    "from sklearn.metrics import accuracy_score, classification_report\n",
    "\n",
    "# Calculate accuracy\n",
    "model_accuracy = accuracy_score(y_test, y_pred)\n",
    "print(f'Accuracy of the model: {model_accuracy}')\n",
    "\n",
    "# Detailed classification report\n",
    "detailed_report = classification_report(y_test, y_pred)\n",
    "print(detailed_report)\n"
   ]
  },
  {
   "cell_type": "markdown",
   "id": "01ad8de4-b0c0-4ce0-bc2b-af34d4317823",
   "metadata": {},
   "source": [
    "'model_accuracy' is the accuracy score of our model. The **accuracy_score** function calculates the accuracy by comparing the test dataset 'y_test' with the predicted labels (y_pred). What we print using the print method is the propotion of correct predictions out of all the predictions the model predicts. In other words, our model has 95% (0.95) accuracy."
   ]
  },
  {
   "cell_type": "markdown",
   "id": "65d5f4c7-037f-4b2e-a62b-cfd62a903100",
   "metadata": {},
   "source": [
    "Next, using the **classification_report** function we are generating the detailed classification report that has the precision, recall, f1-score and the support for each class (in binary classification there are two classes, in our case Benign (non-cancerous) tumors and Malignant (cancerous) tumors).\n",
    "According to the report we can see the,\n",
    "*  **Precision**: The ratio of correctly predicted positive observations to the total predicted positives.\n",
    "*  **Recall**: The ratio of correctly predicted positive observations to all the observations in the class.\n",
    "*  **f1-score**: The weighted average of the precision and the recall.\n",
    "*  **Support**: The number of occurances of each class in the dataset."
   ]
  },
  {
   "cell_type": "markdown",
   "id": "348918ef-4a2a-43d7-bfce-8b5ffe55c358",
   "metadata": {},
   "source": [
    "These 7 commands provides a comprehensive introduction to using Scikit-learn, from importing Scikit-learn to loading a dataset, preprocessing our datasets, training, testing and evaluating the model."
   ]
  },
  {
   "cell_type": "code",
   "execution_count": null,
   "id": "ee7236c5-de5d-4135-b55b-517e163c02b6",
   "metadata": {},
   "outputs": [],
   "source": []
  }
 ],
 "metadata": {
  "kernelspec": {
   "display_name": "Python 3 (ipykernel)",
   "language": "python",
   "name": "python3"
  },
  "language_info": {
   "codemirror_mode": {
    "name": "ipython",
    "version": 3
   },
   "file_extension": ".py",
   "mimetype": "text/x-python",
   "name": "python",
   "nbconvert_exporter": "python",
   "pygments_lexer": "ipython3",
   "version": "3.12.4"
  }
 },
 "nbformat": 4,
 "nbformat_minor": 5
}
